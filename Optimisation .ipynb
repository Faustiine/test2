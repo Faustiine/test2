{
 "cells": [
  {
   "cell_type": "markdown",
   "metadata": {
    "hideCode": false,
    "hidePrompt": false
   },
   "source": [
    "# Modèle Gamma"
   ]
  },
  {
   "cell_type": "markdown",
   "metadata": {
    "hideCode": false,
    "hidePrompt": false
   },
   "source": [
    "\\begin{equation*}\n",
    "f(x;\\alpha ,\\sigma )=\\frac {1}{\\Gamma (\\alpha)\\sigma ^{\\alpha}}x^{\\alpha-1}e^{-{\\frac {x}{\\sigma }}}\n",
    "\\end{equation*}"
   ]
  },
  {
   "cell_type": "markdown",
   "metadata": {
    "hideCode": false,
    "hidePrompt": false
   },
   "source": [
    "Estimation du maximum de vraisemblance :\n",
    "\n",
    "$L(\\alpha, \\sigma) = \\prod_{i=1}^N f(x,\\alpha,\\sigma)$\n",
    "\n",
    "$\\ell (\\alpha,\\sigma )=(\\alpha-1)\\sum _{i=1}^{N}\\ln {(x_{i})}-n \\log \\Gamma{\\sigma}-n \\alpha\\log{\\sigma}-\\frac{1}{\\sigma}\\sum _{i=1}^{N}x_i$\n",
    "\n",
    "$\\hat{\\sigma} = \\frac{\\bar {x}}{\\alpha }$\n",
    "\n",
    "$\\ell =(\\alpha-1)\\sum _{i=1}^{N}\\ln {(x_{i})}-N\\alpha-N\\alpha\\ln {\\left({\\frac {\\sum x_{i}}{\\alpha N}}\\right)}-N\\ln(\\Gamma (\\alpha))$\n",
    "\n",
    "$\\ln(\\alpha)-\\psi (\\alpha)=\\ln \\left({\\frac {1}{N}}\\sum _{i=1}^{N}x_{i}\\right)-{\\frac {1}{N}}\\sum _{i=1}^{N}\\ln(x_{i})$\n",
    "\n",
    "$\\alpha \\approx \\frac{3 - s + \\sqrt{(s - 3)^2 + 24s}}{12s}$"
   ]
  },
  {
   "cell_type": "markdown",
   "metadata": {
    "hideCode": false,
    "hidePrompt": false
   },
   "source": [
    "## Application"
   ]
  },
  {
   "cell_type": "markdown",
   "metadata": {
    "hideCode": false,
    "hidePrompt": false
   },
   "source": [
    "On entre nos données issues d'un article de la revue Applied Statistics, le but étant d'appliqué un modèle Gamma"
   ]
  },
  {
   "cell_type": "code",
   "execution_count": 15,
   "metadata": {
    "hideCode": false,
    "hidePrompt": false
   },
   "outputs": [],
   "source": [
    "mm = c(0.55, 0.74, 0.77, 0.81, 0.93, 1.04, 1.11, 1.13, 0.84, \n",
    "       1.24, 1.25, 1.27, 1.28, 1.29, 1.30, 1.36, 1.39, 1.42,\n",
    "       1.48, 1.48, 1.49, 1.49, 1.50, 1.50, 1.51, 1.52, 1.53,\n",
    "       1.54, 1.55, 1.55, 1.58, 1.59, 1.60, 1.61, 1.61, 1.61, \n",
    "       1.61,  1.62, 1.62, 1.63, 1.64, 1.66, 1.66, 1.66, 1.67,\n",
    "       1.68, 1.68, 1.69, 1.70, 1.70,1.73, 1.76, 1.76, 1.77,\n",
    "       1.78, 1.81, 1.82, 1.84, 1.84, 1.89, 2.00, 2.01, 2.24)\n",
    "\n",
    "cm = c(0.37, 0.40, 0.70, 0.75, 0.80, 0.81, 0.83, 0.86, 0.92,\n",
    "       0.92, 0.94, 0.95, 0.98, 1.03, 1.06, 1.06, 1.08, 1.09,\n",
    "       1.10, 1.10, 1.13, 1.14, 1.15, 1.17, 1.20,1.20, 1.21, \n",
    "       1.22, 1.25, 1.28, 1.28, 1.29, 1.29, 1.30, 1.35, 1.35, \n",
    "       1.37, 1.37, 1.38, 1.40, 1.40, 1.42, 1.43, 1.51, 1.53,\n",
    "       1.61)\n",
    "\n",
    "carb = c(1.312, 1.314, 1.479, 1.552, 1.7, 1.803, 1.861 ,1.865 ,\n",
    "         1.944 ,1.958, 1.966 ,1.997 ,2.006, 2.021, 2.027, 2.055,\n",
    "         2.063, 2.098 ,2.14, 2.179 ,2.224, 2.24 ,2.253, 2.27, \n",
    "         2.272, 2.274, 2.301, 2.301, 2.359, 2.382, 2.382, 2.426 ,\n",
    "         2.434 ,2.435, 2.478, 2.49, 2.511, 2.514, 2.535, 2.554, \n",
    "         2.566, 2.57, 2.586 ,2.629,2.633, 2.642, 2.648, 2.684, \n",
    "         2.697, 2.726, 2.77, 2.773, 2.8, 2.809, 2.818 ,2.821, \n",
    "         2.848, 2.88, 2.954, 3.012, 3.067, 3.084 ,3.09, 3.096 ,\n",
    "         3.128 ,3.233, 3.433,3.585, 3.858)"
   ]
  },
  {
   "cell_type": "markdown",
   "metadata": {
    "hideCode": false,
    "hidePrompt": false
   },
   "source": [
    "### Aperçu graphique des données"
   ]
  },
  {
   "cell_type": "code",
   "execution_count": 18,
   "metadata": {
    "hideCode": false,
    "hidePrompt": false
   },
   "outputs": [
    {
     "data": {
      "image/png": "[encoded data removed]",
      "text/plain": [
       "Plot with title \"Carbone\""
      ]
     },
     "metadata": {},
     "output_type": "display_data"
    }
   ],
   "source": [
    "par(mfrow=c(2,3))\n",
    "options(repr.plot.width=6, repr.plot.height=6)\n",
    "hist(cm,col=\"red\",main='Centimètre')\n",
    "hist(mm,col=\"yellow\",main='Millimètre')\n",
    "hist(carb,col=\"green\",main='Carbone')\n",
    "plot(cm,col=\"red\",main='Centimètre')\n",
    "plot(mm,col=\"yellow\",main='Millimètre')\n",
    "plot(carb,col=\"green\",main='Carbone')"
   ]
  },
  {
   "cell_type": "markdown",
   "metadata": {
    "hideCode": false,
    "hidePrompt": false
   },
   "source": [
    "### Estimation et tracé de la fonction $\\psi - ln$ ainsi que de son inverse"
   ]
  },
  {
   "cell_type": "code",
   "execution_count": 22,
   "metadata": {
    "hideCode": false,
    "hidePrompt": false,
    "scrolled": false
   },
   "outputs": [
    {
     "data": {
      "image/png": "[encoded data removed]",
      "text/plain": [
       "plot without title"
      ]
     },
     "metadata": {},
     "output_type": "display_data"
    }
   ],
   "source": [
    "mincm=log(mean(cm))-mean(log(cm)) \n",
    "minmm= log(mean(mm))-mean(log(mm))\n",
    "mincarb=log(mean(carb))-mean(log(carb))\n",
    "\n",
    "\n",
    "par(mfrow=c(1,3))\n",
    "options(repr.plot.width=9, repr.plot.height=3)\n",
    "derivcm <-  function (cm) log(cm)-digamma(cm)\n",
    "curve(derivcm, 12,15)\n",
    "abline(h=mincm,col = \"red\")\n",
    "invdercm <- uniroot( function(cm) log(cm)-digamma(cm)-mincm,c(1,40))\n",
    "abline(v=invdercm,col=\"green\")\n",
    "\n",
    "\n",
    "derivmm <-  function (mm) log(mm)-digamma(mm)\n",
    "curve(derivmm,10,20)\n",
    "abline(h=minmm,col = \"red\")\n",
    "invdermm <- uniroot( function(mm) log(mm)-digamma(mm)-minmm,c(1,40))\n",
    "abline(v=invdermm,col=\"green\")\n",
    "\n",
    "\n",
    "derivcarb <-  function (carb) log(carb)-digamma(carb)\n",
    "curve(derivcarb,10,30)\n",
    "abline(h=mincarb,col = \"red\")\n",
    "invdercarb <- uniroot( function(carb) log(carb)-digamma(carb)-mincarb,c(1,40))\n",
    "abline(v=invdercarb,col=\"green\")"
   ]
  },
  {
   "cell_type": "code",
   "execution_count": 45,
   "metadata": {
    "hideCode": false,
    "hidePrompt": false
   },
   "outputs": [
    {
     "data": {
      "text/html": [
       "0.107688151538266"
      ],
      "text/latex": [
       "0.107688151538266"
      ],
      "text/markdown": [
       "0.107688151538266"
      ],
      "text/plain": [
       "[1] 0.1076882"
      ]
     },
     "metadata": {},
     "output_type": "display_data"
    }
   ],
   "source": [
    "mean(carb)/22.8"
   ]
  },
  {
   "cell_type": "code",
   "execution_count": 46,
   "metadata": {
    "hideCode": false,
    "hidePrompt": false
   },
   "outputs": [
    {
     "data": {
      "text/html": [
       "0.0829662261380323"
      ],
      "text/latex": [
       "0.0829662261380323"
      ],
      "text/markdown": [
       "0.0829662261380323"
      ],
      "text/plain": [
       "[1] 0.08296623"
      ]
     },
     "metadata": {},
     "output_type": "display_data"
    }
   ],
   "source": [
    "mean(cm)/13.62"
   ]
  },
  {
   "cell_type": "code",
   "execution_count": 47,
   "metadata": {
    "hideCode": false,
    "hidePrompt": false
   },
   "outputs": [
    {
     "data": {
      "text/html": [
       "0.0864005388087957"
      ],
      "text/latex": [
       "0.0864005388087957"
      ],
      "text/markdown": [
       "0.0864005388087957"
      ],
      "text/plain": [
       "[1] 0.08640054"
      ]
     },
     "metadata": {},
     "output_type": "display_data"
    }
   ],
   "source": [
    "mean(mm)/17.44"
   ]
  },
  {
   "cell_type": "markdown",
   "metadata": {
    "hideCode": false,
    "hidePrompt": false
   },
   "source": [
    "## Algorithme dichotomique"
   ]
  },
  {
   "cell_type": "markdown",
   "metadata": {
    "hideCode": false,
    "hidePrompt": false
   },
   "source": [
    "### Définition"
   ]
  },
  {
   "cell_type": "markdown",
   "metadata": {
    "hideCode": false,
    "hidePrompt": false
   },
   "source": [
    "Un algorithme dichotomique est l'une des nombreuses méthodes d'optimisation afin de trouver le point où la fonction s'annule comme nous le montre le graphique ci-dessous issu de Wikipédia.\n",
    "Utilisé par exemple pour résoudre $f(x)=0$\n",
    "\n"
   ]
  },
  {
   "cell_type": "code",
   "execution_count": 2,
   "metadata": {
    "hideCode": false,
    "hidePrompt": false
   },
   "outputs": [
    {
     "data": {
      "image/png": "[encoded data removed]"
     },
     "metadata": {
      "height": 250,
      "width": 250
     },
     "output_type": "display_data"
    }
   ],
   "source": [
    "library(\"IRdisplay\")\n",
    "setwd('C:/Users/Faustine/Desktop/optimisation/')\n",
    "display_png(file=\"td/dichotomique.png\",width=250,height=250)"
   ]
  },
  {
   "cell_type": "markdown",
   "metadata": {
    "hideCode": false,
    "hidePrompt": false
   },
   "source": [
    "### Exemple"
   ]
  },
  {
   "cell_type": "markdown",
   "metadata": {
    "hideCode": false,
    "hidePrompt": false
   },
   "source": [
    "On choisit la fonction $f(x)=x-2$ On cherche $f(x)=0$"
   ]
  },
  {
   "cell_type": "code",
   "execution_count": 7,
   "metadata": {
    "hideCode": false,
    "hidePrompt": false
   },
   "outputs": [
    {
     "data": {
      "text/html": [
       "3.27825546264648e-07"
      ],
      "text/latex": [
       "3.27825546264648e-07"
      ],
      "text/markdown": [
       "3.27825546264648e-07"
      ],
      "text/plain": [
       "[1] 3.278255e-07"
      ]
     },
     "metadata": {},
     "output_type": "display_data"
    }
   ],
   "source": [
    "a=0\n",
    "b=100\n",
    "fonct<-function(x) (x-2)\n",
    "while(b-a>=0.000001){\n",
    "  m<-(a+b)/2\n",
    "  if(fonct(m)*fonct(a)>0){\n",
    "    a=m\n",
    "  } else{\n",
    "    b=m\n",
    "    \n",
    "  }\n",
    "}\n",
    "fonct(m)\n"
   ]
  },
  {
   "cell_type": "markdown",
   "metadata": {
    "hideCode": false,
    "hidePrompt": false
   },
   "source": [
    "Maintenant avec notre fonction $f(x)=log(x)-digamma(x)$"
   ]
  },
  {
   "cell_type": "code",
   "execution_count": 8,
   "metadata": {
    "hideCode": false,
    "hidePrompt": false
   },
   "outputs": [
    {
     "data": {
      "image/png": "[encoded data removed]",
      "text/plain": [
       "plot without title"
      ]
     },
     "metadata": {},
     "output_type": "display_data"
    }
   ],
   "source": [
    "curve(log(x)-digamma(x),0.1,1.5,500)"
   ]
  },
  {
   "cell_type": "code",
   "execution_count": 9,
   "metadata": {
    "hideCode": false,
    "hidePrompt": false
   },
   "outputs": [
    {
     "data": {
      "text/html": [
       "0.00500833328663308"
      ],
      "text/latex": [
       "0.00500833328663308"
      ],
      "text/markdown": [
       "0.00500833328663308"
      ],
      "text/plain": [
       "[1] 0.005008333"
      ]
     },
     "metadata": {},
     "output_type": "display_data"
    }
   ],
   "source": [
    "a=2\n",
    "b=100\n",
    "fonct<-function(x) (log(x)-digamma(x))\n",
    "while(b-a>=0.000001){\n",
    "  m<-(a+b)/2\n",
    "  if(fonct(m)*fonct(a)>0){\n",
    "    a=m\n",
    "  } else{\n",
    "    b=m\n",
    "    \n",
    "  }\n",
    "}\n",
    "fonct(m)\n"
   ]
  },
  {
   "cell_type": "markdown",
   "metadata": {
    "hideCode": false,
    "hidePrompt": false
   },
   "source": [
    "## Algorithme bitomique"
   ]
  },
  {
   "cell_type": "markdown",
   "metadata": {
    "hideCode": false,
    "hidePrompt": false
   },
   "source": [
    "### Définition"
   ]
  },
  {
   "cell_type": "markdown",
   "metadata": {
    "hideCode": false,
    "hidePrompt": false
   },
   "source": [
    "L'algorithme bitomique quant à lui coupera l'intervalle en 3 parties de manière symétrique aux bornes a et b"
   ]
  },
  {
   "cell_type": "code",
   "execution_count": null,
   "metadata": {
    "hideCode": false,
    "hidePrompt": false
   },
   "outputs": [],
   "source": [
    "while(b-a>0.001){\n",
    "  m<-a+p*(b-a)\n",
    "  if(funct(a)*funct(m)<=0){\n",
    "    b<-m\n",
    "  }else{\n",
    "      n<-b-p*(b-a)\n",
    "    if(funct(b)*funct(n)<=0){\n",
    "  a<-n\n",
    "  }else{\n",
    "    b<-m\n",
    "    a<-n\n",
    "  }\n",
    "  }  \n",
    "  \n",
    "}"
   ]
  },
  {
   "cell_type": "markdown",
   "metadata": {
    "hideCode": false,
    "hidePrompt": false
   },
   "source": [
    "## Minimum d'une fonction "
   ]
  },
  {
   "cell_type": "code",
   "execution_count": 10,
   "metadata": {
    "hideCode": false,
    "hidePrompt": false
   },
   "outputs": [],
   "source": [
    "approx<-function(funct,deriv,dep=1,eps=0.00001,maxiter=50){\n",
    "  x<-dep\n",
    "  pas<-1\n",
    "  niter<-1\n",
    "  while(abs(pas)>eps & niter<maxiter){\n",
    "    pas<-funct(x)/deriv(x)\n",
    "    x<-x-pas\n",
    "    niter=niter+1\n",
    "  }\n",
    "  return(list(root=x,niter=niter))\n",
    "}"
   ]
  },
  {
   "cell_type": "markdown",
   "metadata": {
    "hideCode": false,
    "hidePrompt": false
   },
   "source": [
    "Notre fonction approx va permettre d'approximer un minimum d'une fonction mais cela nécessite de rentrer manuellement sa dérivée"
   ]
  },
  {
   "cell_type": "markdown",
   "metadata": {
    "hideCode": false,
    "hidePrompt": false
   },
   "source": [
    "### Exemple avec la fonction $log(x)$"
   ]
  },
  {
   "cell_type": "code",
   "execution_count": 11,
   "metadata": {
    "hideCode": false,
    "hidePrompt": false
   },
   "outputs": [
    {
     "data": {
      "text/html": [
       "<dl>\n",
       "\t<dt>$root</dt>\n",
       "\t\t<dd>0.999998948013897</dd>\n",
       "\t<dt>$niter</dt>\n",
       "\t\t<dd>7</dd>\n",
       "</dl>\n"
      ],
      "text/latex": [
       "\\begin{description}\n",
       "\\item[\\$root] 0.999998948013897\n",
       "\\item[\\$niter] 7\n",
       "\\end{description}\n"
      ],
      "text/markdown": [
       "$root\n",
       ":   0.999998948013897\n",
       "$niter\n",
       ":   7\n",
       "\n",
       "\n"
      ],
      "text/plain": [
       "$root\n",
       "[1] 0.9999989\n",
       "\n",
       "$niter\n",
       "[1] 7\n"
      ]
     },
     "metadata": {},
     "output_type": "display_data"
    }
   ],
   "source": [
    "approx(log,function(x)(1/x),0.02,eps=0.01)"
   ]
  },
  {
   "cell_type": "markdown",
   "metadata": {
    "hideCode": false,
    "hidePrompt": false
   },
   "source": [
    "### Exemple avec notre fonction digamma"
   ]
  },
  {
   "cell_type": "code",
   "execution_count": 12,
   "metadata": {
    "hideCode": false,
    "hidePrompt": false
   },
   "outputs": [
    {
     "data": {
      "text/html": [
       "<dl>\n",
       "\t<dt>$root</dt>\n",
       "\t\t<dd>5.16087550341022</dd>\n",
       "\t<dt>$niter</dt>\n",
       "\t\t<dd>9</dd>\n",
       "</dl>\n"
      ],
      "text/latex": [
       "\\begin{description}\n",
       "\\item[\\$root] 5.16087550341022\n",
       "\\item[\\$niter] 9\n",
       "\\end{description}\n"
      ],
      "text/markdown": [
       "$root\n",
       ":   5.16087550341022\n",
       "$niter\n",
       ":   9\n",
       "\n",
       "\n"
      ],
      "text/plain": [
       "$root\n",
       "[1] 5.160876\n",
       "\n",
       "$niter\n",
       "[1] 9\n"
      ]
     },
     "metadata": {},
     "output_type": "display_data"
    }
   ],
   "source": [
    "fonct<-function(x){\n",
    "  log(x)-digamma(x)-0.1\n",
    "}\n",
    "der<-function(x)((1/x)-trigamma(x))\n",
    "\n",
    "approx(fonct,der)\n"
   ]
  },
  {
   "cell_type": "markdown",
   "metadata": {
    "hideCode": false,
    "hidePrompt": false
   },
   "source": [
    "# Etude de l'indice TIOBE"
   ]
  },
  {
   "cell_type": "markdown",
   "metadata": {
    "hideCode": false,
    "hidePrompt": false
   },
   "source": [
    "Dans cette partie on a pu apprendre à récupérer directement des données d'un site internet (harvesting). On utilise le package Rvest pour cela."
   ]
  },
  {
   "cell_type": "markdown",
   "metadata": {
    "hideCode": false,
    "hidePrompt": false
   },
   "source": [
    "Code pour récupérer les données du site https://www.tiobe.com/tiobe-index/ :"
   ]
  },
  {
   "cell_type": "code",
   "execution_count": 61,
   "metadata": {
    "hideCode": false,
    "hideOutput": true,
    "hidePrompt": false
   },
   "outputs": [
    {
     "data": {
      "text/plain": [
       "{xml_nodeset (4)}\n",
       "[1] <table class=\"table table-striped table-top20\">\\n<thead><tr>\\n<th>May 201 ...\n",
       "[2] <table class=\"table table-striped\">\\n<thead><tr>\\n<th>Position</th>\\n<th> ...\n",
       "[3] <table class=\"table table-striped\">\\n<thead><tr>\\n<th>Programming Languag ...\n",
       "[4] <table class=\"table table-striped\">\\n<colgroup>\\n<col align=\"center\">\\n<c ..."
      ]
     },
     "metadata": {},
     "output_type": "display_data"
    },
    {
     "name": "stdout",
     "output_type": "stream",
     "text": [
      "List of 1\n",
      " $ :'data.frame':\t20 obs. of  6 variables:\n",
      "  ..$ May 2018            : int [1:20] 1 2 3 4 5 6 7 8 9 10 ...\n",
      "  ..$ May 2017            : chr [1:20] \"1\" \"2\" \"3\" \"4\" ...\n",
      "  ..$ Change              : logi [1:20] NA NA NA NA NA NA ...\n",
      "  ..$ Programming Language: chr [1:20] \"Java\" \"C\" \"C++\" \"Python\" ...\n",
      "  ..$ Ratings             : chr [1:20] \"16.380%\" \"14.000%\" \"7.668%\" \"5.192%\" ...\n",
      "  ..$ Change              : chr [1:20] \"+1.74%\" \"+7.00%\" \"+2.92%\" \"+1.64%\" ...\n"
     ]
    },
    {
     "data": {
      "text/html": [
       "<ol class=list-inline>\n",
       "\t<li>'May.2018'</li>\n",
       "\t<li>'May.2017'</li>\n",
       "\t<li>'Programming.Language'</li>\n",
       "\t<li>'Ratings'</li>\n",
       "\t<li>'Change.1'</li>\n",
       "</ol>\n"
      ],
      "text/latex": [
       "\\begin{enumerate*}\n",
       "\\item 'May.2018'\n",
       "\\item 'May.2017'\n",
       "\\item 'Programming.Language'\n",
       "\\item 'Ratings'\n",
       "\\item 'Change.1'\n",
       "\\end{enumerate*}\n"
      ],
      "text/markdown": [
       "1. 'May.2018'\n",
       "2. 'May.2017'\n",
       "3. 'Programming.Language'\n",
       "4. 'Ratings'\n",
       "5. 'Change.1'\n",
       "\n",
       "\n"
      ],
      "text/plain": [
       "[1] \"May.2018\"             \"May.2017\"             \"Programming.Language\"\n",
       "[4] \"Ratings\"              \"Change.1\"            "
      ]
     },
     "metadata": {},
     "output_type": "display_data"
    },
    {
     "name": "stdout",
     "output_type": "stream",
     "text": [
      "'data.frame':\t20 obs. of  5 variables:\n",
      " $        : int  1 2 3 4 5 6 7 8 9 10 ...\n",
      " $        : chr  \"1\" \"2\" \"3\" \"4\" ...\n",
      " $ Langage: chr  \"Java\" \"C\" \"C++\" \"Python\" ...\n",
      " $ Ratings: chr  \"16.380%\" \"14.000%\" \"7.668%\" \"5.192%\" ...\n",
      " $ Change : chr  \"+1.74%\" \"+7.00%\" \"+2.92%\" \"+1.64%\" ...\n"
     ]
    },
    {
     "data": {
      "text/html": [
       "<ol class=list-inline>\n",
       "\t<li>'16.380%'</li>\n",
       "\t<li>'14.000%'</li>\n",
       "\t<li>'7.668%'</li>\n",
       "\t<li>'5.192%'</li>\n",
       "\t<li>'4.402%'</li>\n",
       "\t<li>'4.124%'</li>\n",
       "\t<li>'3.321%'</li>\n",
       "\t<li>'2.923%'</li>\n",
       "\t<li>'1.987%'</li>\n",
       "\t<li>'1.182%'</li>\n",
       "\t<li>'1.180%'</li>\n",
       "\t<li>'1.012%'</li>\n",
       "\t<li>'0.998%'</li>\n",
       "\t<li>'0.970%'</li>\n",
       "\t<li>'0.939%'</li>\n",
       "\t<li>'0.929%'</li>\n",
       "\t<li>'0.915%'</li>\n",
       "\t<li>'0.909%'</li>\n",
       "\t<li>'0.907%'</li>\n",
       "\t<li>'0.900%'</li>\n",
       "</ol>\n"
      ],
      "text/latex": [
       "\\begin{enumerate*}\n",
       "\\item '16.380\\%'\n",
       "\\item '14.000\\%'\n",
       "\\item '7.668\\%'\n",
       "\\item '5.192\\%'\n",
       "\\item '4.402\\%'\n",
       "\\item '4.124\\%'\n",
       "\\item '3.321\\%'\n",
       "\\item '2.923\\%'\n",
       "\\item '1.987\\%'\n",
       "\\item '1.182\\%'\n",
       "\\item '1.180\\%'\n",
       "\\item '1.012\\%'\n",
       "\\item '0.998\\%'\n",
       "\\item '0.970\\%'\n",
       "\\item '0.939\\%'\n",
       "\\item '0.929\\%'\n",
       "\\item '0.915\\%'\n",
       "\\item '0.909\\%'\n",
       "\\item '0.907\\%'\n",
       "\\item '0.900\\%'\n",
       "\\end{enumerate*}\n"
      ],
      "text/markdown": [
       "1. '16.380%'\n",
       "2. '14.000%'\n",
       "3. '7.668%'\n",
       "4. '5.192%'\n",
       "5. '4.402%'\n",
       "6. '4.124%'\n",
       "7. '3.321%'\n",
       "8. '2.923%'\n",
       "9. '1.987%'\n",
       "10. '1.182%'\n",
       "11. '1.180%'\n",
       "12. '1.012%'\n",
       "13. '0.998%'\n",
       "14. '0.970%'\n",
       "15. '0.939%'\n",
       "16. '0.929%'\n",
       "17. '0.915%'\n",
       "18. '0.909%'\n",
       "19. '0.907%'\n",
       "20. '0.900%'\n",
       "\n",
       "\n"
      ],
      "text/plain": [
       " [1] \"16.380%\" \"14.000%\" \"7.668%\"  \"5.192%\"  \"4.402%\"  \"4.124%\"  \"3.321%\" \n",
       " [8] \"2.923%\"  \"1.987%\"  \"1.182%\"  \"1.180%\"  \"1.012%\"  \"0.998%\"  \"0.970%\" \n",
       "[15] \"0.939%\"  \"0.929%\"  \"0.915%\"  \"0.909%\"  \"0.907%\"  \"0.900%\" "
      ]
     },
     "metadata": {},
     "output_type": "display_data"
    },
    {
     "data": {
      "text/html": [
       "<table>\n",
       "<thead><tr><th scope=col></th><th scope=col></th><th scope=col>Langage</th><th scope=col>Ratings</th><th scope=col>Change</th></tr></thead>\n",
       "<tbody>\n",
       "\t<tr><td> 1                  </td><td>1                   </td><td>Java                </td><td>16.380              </td><td> 1.74               </td></tr>\n",
       "\t<tr><td> 2                  </td><td>2                   </td><td>C                   </td><td>14.000              </td><td> 7.00               </td></tr>\n",
       "\t<tr><td> 3                  </td><td>3                   </td><td>C++                 </td><td> 7.668              </td><td> 2.92               </td></tr>\n",
       "\t<tr><td> 4                  </td><td>4                   </td><td>Python              </td><td> 5.192              </td><td> 1.64               </td></tr>\n",
       "\t<tr><td> 5                  </td><td>5                   </td><td>C#                  </td><td> 4.402              </td><td> 0.95               </td></tr>\n",
       "\t<tr><td> 6                  </td><td>6                   </td><td>Visual Basic .NET   </td><td> 4.124              </td><td> 0.73               </td></tr>\n",
       "\t<tr><td> 7                  </td><td>9                   </td><td>PHP                 </td><td> 3.321              </td><td> 0.63               </td></tr>\n",
       "\t<tr><td> 8                  </td><td>7                   </td><td>JavaScript          </td><td> 2.923              </td><td>-0.15               </td></tr>\n",
       "\t<tr><td> 9                  </td><td>-                   </td><td>SQL                 </td><td> 1.987              </td><td> 1.99               </td></tr>\n",
       "\t<tr><td>10                  </td><td>11                  </td><td>Ruby                </td><td> 1.182              </td><td>-1.25               </td></tr>\n",
       "\t<tr><td>11                  </td><td>14                  </td><td>R                   </td><td> 1.180              </td><td>-1.01               </td></tr>\n",
       "\t<tr><td>12                  </td><td>18                  </td><td>Delphi/Object Pascal</td><td> 1.012              </td><td>-1.03               </td></tr>\n",
       "\t<tr><td>13                  </td><td>8                   </td><td>Assembly language   </td><td> 0.998              </td><td>-1.86               </td></tr>\n",
       "\t<tr><td>14                  </td><td>16                  </td><td>Go                  </td><td> 0.970              </td><td>-1.11               </td></tr>\n",
       "\t<tr><td>15                  </td><td>15                  </td><td>Objective-C         </td><td> 0.939              </td><td>-1.16               </td></tr>\n",
       "\t<tr><td>16                  </td><td>17                  </td><td>MATLAB              </td><td> 0.929              </td><td>-1.13               </td></tr>\n",
       "\t<tr><td>17                  </td><td>12                  </td><td>Visual Basic        </td><td> 0.915              </td><td>-1.43               </td></tr>\n",
       "\t<tr><td>18                  </td><td>10                  </td><td>Perl                </td><td> 0.909              </td><td>-1.69               </td></tr>\n",
       "\t<tr><td>19                  </td><td>13                  </td><td>Swift               </td><td> 0.907              </td><td>-1.37               </td></tr>\n",
       "\t<tr><td>20                  </td><td>31                  </td><td>Scala               </td><td> 0.900              </td><td> 0.18               </td></tr>\n",
       "</tbody>\n",
       "</table>\n"
      ],
      "text/latex": [
       "\\begin{tabular}{r|lllll}\n",
       "  &  & Langage & Ratings & Change\\\\\n",
       "\\hline\n",
       "\t  1                   & 1                    & Java                 & 16.380               &  1.74               \\\\\n",
       "\t  2                   & 2                    & C                    & 14.000               &  7.00               \\\\\n",
       "\t  3                   & 3                    & C++                  &  7.668               &  2.92               \\\\\n",
       "\t  4                   & 4                    & Python               &  5.192               &  1.64               \\\\\n",
       "\t  5                     & 5                      & C\\#                   &  4.402                 &  0.95                 \\\\\n",
       "\t  6                   & 6                    & Visual Basic .NET    &  4.124               &  0.73               \\\\\n",
       "\t  7                   & 9                    & PHP                  &  3.321               &  0.63               \\\\\n",
       "\t  8                   & 7                    & JavaScript           &  2.923               & -0.15               \\\\\n",
       "\t  9                   & -                    & SQL                  &  1.987               &  1.99               \\\\\n",
       "\t 10                   & 11                   & Ruby                 &  1.182               & -1.25               \\\\\n",
       "\t 11                   & 14                   & R                    &  1.180               & -1.01               \\\\\n",
       "\t 12                   & 18                   & Delphi/Object Pascal &  1.012               & -1.03               \\\\\n",
       "\t 13                   & 8                    & Assembly language    &  0.998               & -1.86               \\\\\n",
       "\t 14                   & 16                   & Go                   &  0.970               & -1.11               \\\\\n",
       "\t 15                   & 15                   & Objective-C          &  0.939               & -1.16               \\\\\n",
       "\t 16                   & 17                   & MATLAB               &  0.929               & -1.13               \\\\\n",
       "\t 17                   & 12                   & Visual Basic         &  0.915               & -1.43               \\\\\n",
       "\t 18                   & 10                   & Perl                 &  0.909               & -1.69               \\\\\n",
       "\t 19                   & 13                   & Swift                &  0.907               & -1.37               \\\\\n",
       "\t 20                   & 31                   & Scala                &  0.900               &  0.18               \\\\\n",
       "\\end{tabular}\n"
      ],
      "text/markdown": [
       "\n",
       " |  | Langage | Ratings | Change | \n",
       "|---|---|---|---|---|---|---|---|---|---|---|---|---|---|---|---|---|---|---|---|\n",
       "|  1                   | 1                    | Java                 | 16.380               |  1.74                | \n",
       "|  2                   | 2                    | C                    | 14.000               |  7.00                | \n",
       "|  3                   | 3                    | C++                  |  7.668               |  2.92                | \n",
       "|  4                   | 4                    | Python               |  5.192               |  1.64                | \n",
       "|  5                   | 5                    | C#                   |  4.402               |  0.95                | \n",
       "|  6                   | 6                    | Visual Basic .NET    |  4.124               |  0.73                | \n",
       "|  7                   | 9                    | PHP                  |  3.321               |  0.63                | \n",
       "|  8                   | 7                    | JavaScript           |  2.923               | -0.15                | \n",
       "|  9                   | -                    | SQL                  |  1.987               |  1.99                | \n",
       "| 10                   | 11                   | Ruby                 |  1.182               | -1.25                | \n",
       "| 11                   | 14                   | R                    |  1.180               | -1.01                | \n",
       "| 12                   | 18                   | Delphi/Object Pascal |  1.012               | -1.03                | \n",
       "| 13                   | 8                    | Assembly language    |  0.998               | -1.86                | \n",
       "| 14                   | 16                   | Go                   |  0.970               | -1.11                | \n",
       "| 15                   | 15                   | Objective-C          |  0.939               | -1.16                | \n",
       "| 16                   | 17                   | MATLAB               |  0.929               | -1.13                | \n",
       "| 17                   | 12                   | Visual Basic         |  0.915               | -1.43                | \n",
       "| 18                   | 10                   | Perl                 |  0.909               | -1.69                | \n",
       "| 19                   | 13                   | Swift                |  0.907               | -1.37                | \n",
       "| 20                   | 31                   | Scala                |  0.900               |  0.18                | \n",
       "\n",
       "\n"
      ],
      "text/plain": [
       "         Langage              Ratings Change\n",
       "1   1 1  Java                 16.380   1.74 \n",
       "2   2 2  C                    14.000   7.00 \n",
       "3   3 3  C++                   7.668   2.92 \n",
       "4   4 4  Python                5.192   1.64 \n",
       "5   5 5  C#                    4.402   0.95 \n",
       "6   6 6  Visual Basic .NET     4.124   0.73 \n",
       "7   7 9  PHP                   3.321   0.63 \n",
       "8   8 7  JavaScript            2.923  -0.15 \n",
       "9   9 -  SQL                   1.987   1.99 \n",
       "10 10 11 Ruby                  1.182  -1.25 \n",
       "11 11 14 R                     1.180  -1.01 \n",
       "12 12 18 Delphi/Object Pascal  1.012  -1.03 \n",
       "13 13 8  Assembly language     0.998  -1.86 \n",
       "14 14 16 Go                    0.970  -1.11 \n",
       "15 15 15 Objective-C           0.939  -1.16 \n",
       "16 16 17 MATLAB                0.929  -1.13 \n",
       "17 17 12 Visual Basic          0.915  -1.43 \n",
       "18 18 10 Perl                  0.909  -1.69 \n",
       "19 19 13 Swift                 0.907  -1.37 \n",
       "20 20 31 Scala                 0.900   0.18 "
      ]
     },
     "metadata": {},
     "output_type": "display_data"
    }
   ],
   "source": [
    "library(rvest)\n",
    "\n",
    "webpage<-read_html(\"https://www.tiobe.com/tiobe-index/\")\n",
    "tbls<-html_nodes(webpage,\"table\")\n",
    "head(tbls)\n",
    "\n",
    "tbls_ls <- webpage %>%\n",
    "  html_nodes(\"table\") %>%\n",
    "  .[1] %>%\n",
    "  html_table(fill = TRUE)\n",
    "str(tbls_ls)\n",
    "data<-as.data.frame(tbls_ls)\n",
    "data<-data[-3]\n",
    "colnames(data)\n",
    "names(data)<-c('','','Langage','Ratings','Change')\n",
    "\n",
    "str(data)\n",
    "data$Ratings\n",
    "\n",
    "library(stringr)\n",
    "data$Ratings<-str_remove(data$Ratings,\"%\")#on supprime le % qui pose problème pour convertir \n",
    "#au format numérique afin de pouvoir manipuler les données\n",
    "\n",
    "data$Change<-str_remove(data$Change,\"%\")\n",
    "\n",
    "data$Ratings<-as.numeric(data$Ratings)\n",
    "\n",
    "data$Change<-as.numeric(data$Change)\n",
    "\n",
    "data"
   ]
  },
  {
   "cell_type": "markdown",
   "metadata": {
    "hideCode": false,
    "hidePrompt": false
   },
   "source": [
    "On obtient alors le classement des langages pour le mois en cours ainsi que son évolution par rapport à l'année précédente.\n",
    "Aperçu graphique :"
   ]
  },
  {
   "cell_type": "code",
   "execution_count": 15,
   "metadata": {
    "hideCode": false,
    "hidePrompt": false,
    "scrolled": false
   },
   "outputs": [
    {
     "data": {},
     "metadata": {},
     "output_type": "display_data"
    },
    {
     "data": {
      "image/png": "[encoded data removed]",
      "text/plain": [
       "plot without title"
      ]
     },
     "metadata": {},
     "output_type": "display_data"
    }
   ],
   "source": [
    "library(ggplot2)\n",
    "\n",
    "ggplot(data,aes(data$Langage,data$Ratings))+geom_bar(stat=\"identity\")+xlab(\"Langage\")\n",
    "    +ylab(\"pourcentage\")+labs(title=\"Tiobe\")+theme(axis.text.x = element_text(size=7, angle=45))\n"
   ]
  },
  {
   "cell_type": "markdown",
   "metadata": {
    "hideCode": false,
    "hidePrompt": false
   },
   "source": [
    "Le problème est que le site ne mets en ligne que les donnéees du mois en cours, l'idéal serait de tous les mois récupérer les données et les exploiter bout à bout avec celles obtenues les autres mois.\n",
    "Il va donc s'agir d'éxécuter notre code précédent qui nettoie les données, met en format numérique, etc ensuite on garde que les colonnes nous intéressant afin de créer un fichier .csv de notre data frame récolté."
   ]
  },
  {
   "cell_type": "code",
   "execution_count": null,
   "metadata": {
    "hideCode": false,
    "hidePrompt": false
   },
   "outputs": [],
   "source": [
    "setwd('C:/Users/Faustine/Desktop/optimisation/tiobe')\n",
    "suppr<-c(1,2)#\n",
    "data<-data[,-suppr]\n",
    "write.table(data,file=\"mai.csv\",sep=\";\")"
   ]
  },
  {
   "cell_type": "markdown",
   "metadata": {
    "hideCode": false,
    "hidePrompt": false
   },
   "source": [
    "Tous les mois nous aurons donc un fichier .csv avec les données de ce dernier dans notre dossier. On pourra alors traiter l'intégralité de nos données avec la boucle suivante qui lit tous nos fichiers csv du dossier."
   ]
  },
  {
   "cell_type": "code",
   "execution_count": null,
   "metadata": {
    "hideCode": false,
    "hidePrompt": false
   },
   "outputs": [],
   "source": [
    "files<-list.files(pattern = \".csv\")\n",
    "DF<-NULL\n",
    "for(f in files){\n",
    "  dat<-read.table(f,sep=\";\",header=T)\n",
    "  DF<-cbind(DF,dat)\n",
    "}"
   ]
  },
  {
   "cell_type": "markdown",
   "metadata": {
    "hideCode": false,
    "hidePrompt": false
   },
   "source": [
    "# Ajustement d'un modèle de régression exponentiel"
   ]
  },
  {
   "cell_type": "markdown",
   "metadata": {
    "hideCode": false,
    "hidePrompt": false
   },
   "source": [
    "On considère le modèle suivant $Y=\\beta\\exp(\\alpha x)+E$\n",
    "\n",
    "Avec $E\\sim \\mathcal{N}(0,\\sigma²)$"
   ]
  },
  {
   "cell_type": "markdown",
   "metadata": {
    "hideCode": false,
    "hidePrompt": false
   },
   "source": [
    "Ce modèle n'est pas un modèle linéaire en effect la variable Y dépend ici de la variable explicative x, cette dépendance est exponentielle et non linéaire.\n",
    "On va donc linéarisé le modèle afin d'appliquer une régression linéaire classique. On ne tiendra pas compte de $E$."
   ]
  },
  {
   "cell_type": "markdown",
   "metadata": {
    "hideCode": false,
    "hidePrompt": false
   },
   "source": [
    "$log(Y)=log(\\beta)+log(\\alpha x)$ "
   ]
  },
  {
   "cell_type": "markdown",
   "metadata": {
    "hideCode": false,
    "hidePrompt": false
   },
   "source": [
    "On utilisera un jeu de données de l'Université de PennState pour nos estimations et comparaisons."
   ]
  },
  {
   "cell_type": "code",
   "execution_count": 19,
   "metadata": {
    "hideCode": false,
    "hidePrompt": false
   },
   "outputs": [
    {
     "data": {
      "image/png": "[encoded data removed]",
      "text/plain": [
       "plot without title"
      ]
     },
     "metadata": {},
     "output_type": "display_data"
    }
   ],
   "source": [
    "setwd('C:/Users/Faustine/Desktop/optimisation')\n",
    "data<-read.csv('Classeur1.csv',sep=';',header=T,row.names = 1)\n",
    "options(repr.plot.width=4, repr.plot.height=4)\n",
    "plot(data)"
   ]
  },
  {
   "cell_type": "markdown",
   "metadata": {
    "hideCode": false,
    "hidePrompt": false
   },
   "source": [
    "Estimation avec la linéarisation faite au préalable:"
   ]
  },
  {
   "cell_type": "code",
   "execution_count": 27,
   "metadata": {
    "hideCode": false,
    "hidePrompt": false
   },
   "outputs": [
    {
     "data": {
      "text/plain": [
       "\n",
       "Call:\n",
       "lm(formula = log(data$prog) ~ data$days)\n",
       "\n",
       "Coefficients:\n",
       "(Intercept)    data$days  \n",
       "    4.03716     -0.03797  \n"
      ]
     },
     "metadata": {},
     "output_type": "display_data"
    },
    {
     "data": {
      "text/html": [
       "<strong>(Intercept):</strong> 56.6651206962694"
      ],
      "text/latex": [
       "\\textbf{(Intercept):} 56.6651206962694"
      ],
      "text/markdown": [
       "**(Intercept):** 56.6651206962694"
      ],
      "text/plain": [
       "(Intercept) \n",
       "   56.66512 "
      ]
     },
     "metadata": {},
     "output_type": "display_data"
    }
   ],
   "source": [
    "est<-lm(log(data$prog)~data$days)\n",
    "est\n",
    "exp(est$coeff[1])"
   ]
  },
  {
   "cell_type": "markdown",
   "metadata": {
    "hideCode": false,
    "hidePrompt": false
   },
   "source": [
    "On comparera avec les estimateurs suivants obtenus sans linéarisation prélable grâce à la fonction $nls$."
   ]
  },
  {
   "cell_type": "code",
   "execution_count": 25,
   "metadata": {
    "hideCode": false,
    "hidePrompt": false
   },
   "outputs": [
    {
     "data": {
      "text/plain": [
       "Nonlinear regression model\n",
       "  model: prog ~ b0 * exp(b1 * days)\n",
       "   data: data\n",
       "      b0       b1 \n",
       "58.60656 -0.03959 \n",
       " residual sum-of-squares: 49.46\n",
       "\n",
       "Number of iterations to convergence: 5 \n",
       "Achieved convergence tolerance: 2.555e-06"
      ]
     },
     "metadata": {},
     "output_type": "display_data"
    }
   ],
   "source": [
    "est2<-nls(prog~b0*exp(b1*days),data =data,start =list(b0=50,b1=-0.1))\n",
    "est2"
   ]
  },
  {
   "cell_type": "code",
   "execution_count": 26,
   "metadata": {
    "hideCode": false,
    "hidePrompt": false
   },
   "outputs": [
    {
     "data": {
      "image/png": "[encoded data removed]",
      "text/plain": [
       "plot without title"
      ]
     },
     "metadata": {},
     "output_type": "display_data"
    }
   ],
   "source": [
    "plot(data)\n",
    "curve(56.66*exp(x*-0.03797),0,70,col='blue',add=T)#linéarisé\n",
    "curve(58.60656*exp(x*-0.03959),0,70,col='red',add=T)#nls"
   ]
  },
  {
   "cell_type": "markdown",
   "metadata": {
    "hideCode": false,
    "hidePrompt": false
   },
   "source": [
    "On constate que les 2 régressions donnent des résultats extrêmement proches mais la différence est tout de même perceptible comme le montre notre graphique."
   ]
  },
  {
   "cell_type": "markdown",
   "metadata": {
    "hideCode": false,
    "hidePrompt": false
   },
   "source": [
    "Dans un modèle de ce type : $Y=\\beta\\exp(\\alpha x)$ la fonction glm peut nous permettre de ne pas passer par $nls$."
   ]
  },
  {
   "cell_type": "code",
   "execution_count": 29,
   "metadata": {
    "hideCode": false,
    "hidePrompt": false
   },
   "outputs": [
    {
     "data": {
      "text/plain": [
       "\n",
       "Call:  glm(formula = prog ~ days, family = gaussian(link = \"log\"), data = data)\n",
       "\n",
       "Coefficients:\n",
       "(Intercept)         days  \n",
       "    4.07085     -0.03959  \n",
       "\n",
       "Degrees of Freedom: 14 Total (i.e. Null);  13 Residual\n",
       "Null Deviance:\t    3943 \n",
       "Residual Deviance: 49.46 \tAIC: 66.46"
      ]
     },
     "metadata": {},
     "output_type": "display_data"
    },
    {
     "data": {
      "text/html": [
       "58.606757169793"
      ],
      "text/latex": [
       "58.606757169793"
      ],
      "text/markdown": [
       "58.606757169793"
      ],
      "text/plain": [
       "[1] 58.60676"
      ]
     },
     "metadata": {},
     "output_type": "display_data"
    }
   ],
   "source": [
    "est2<-glm(prog~days,data=data,family=gaussian(link='log'))\n",
    "est2\n",
    "exp(4.07085)\n"
   ]
  },
  {
   "cell_type": "markdown",
   "metadata": {
    "hideCode": false,
    "hidePrompt": false
   },
   "source": [
    "On retrouve alors exactement les même résultats qu'avec $nls$."
   ]
  },
  {
   "cell_type": "markdown",
   "metadata": {
    "hideCode": false,
    "hidePrompt": false
   },
   "source": [
    "## Autre exemple"
   ]
  },
  {
   "cell_type": "code",
   "execution_count": 46,
   "metadata": {
    "hideCode": false,
    "hidePrompt": false
   },
   "outputs": [
    {
     "data": {
      "text/html": [
       "<strong>(Intercept):</strong> 0.583048292847039"
      ],
      "text/latex": [
       "\\textbf{(Intercept):} 0.583048292847039"
      ],
      "text/markdown": [
       "**(Intercept):** 0.583048292847039"
      ],
      "text/plain": [
       "(Intercept) \n",
       "  0.5830483 "
      ]
     },
     "metadata": {},
     "output_type": "display_data"
    },
    {
     "data": {
      "text/plain": [
       "\n",
       "Call:\n",
       "lm(formula = log(data$Relative.Risk.of.Crashing) ~ data$BAC)\n",
       "\n",
       "Coefficients:\n",
       "(Intercept)     data$BAC  \n",
       "    -0.5395      23.8176  \n"
      ]
     },
     "metadata": {},
     "output_type": "display_data"
    },
    {
     "data": {
      "text/plain": [
       "Nonlinear regression model\n",
       "  model: Relative.Risk.of.Crashing ~ b0 * exp(b1 * BAC)\n",
       "   data: data\n",
       "     b0      b1 \n",
       " 0.5588 24.7785 \n",
       " residual sum-of-squares: 28.51\n",
       "\n",
       "Number of iterations to convergence: 11 \n",
       "Achieved convergence tolerance: 1.948e-06"
      ]
     },
     "metadata": {},
     "output_type": "display_data"
    },
    {
     "data": {
      "text/plain": [
       "\n",
       "Call:  glm(formula = Relative.Risk.of.Crashing ~ BAC, family = gaussian(link = \"log\"), \n",
       "    data = data)\n",
       "\n",
       "Coefficients:\n",
       "(Intercept)          BAC  \n",
       "     -0.582       24.779  \n",
       "\n",
       "Degrees of Freedom: 11 Total (i.e. Null);  10 Residual\n",
       "Null Deviance:\t    11020 \n",
       "Residual Deviance: 28.51 \tAIC: 50.44"
      ]
     },
     "metadata": {},
     "output_type": "display_data"
    },
    {
     "data": {
      "image/png": "[encoded data removed]",
      "text/plain": [
       "plot without title"
      ]
     },
     "metadata": {},
     "output_type": "display_data"
    }
   ],
   "source": [
    "data<-read.table('bac.csv',sep=\";\",header=T)\n",
    "plot(data)\n",
    "\n",
    "est1<-lm(log(data$Relative.Risk.of.Crashing)~data$BAC)\n",
    "\n",
    "exp(est1$coeff[1])\n",
    "\n",
    "est2<-nls(Relative.Risk.of.Crashing~b0*exp(b1*BAC),data =data,start =list(b0=-5,b1=-0.1))\n",
    "\n",
    "\n",
    "est3<-glm(Relative.Risk.of.Crashing~BAC,data=data,family=gaussian(link='log'))  \n",
    "\n",
    "est1\n",
    "est2\n",
    "est3\n",
    "plot(data)\n",
    "curve(0.583*exp(x*23.8176),col='blue',add=T)\n",
    "curve(0.5588*exp(x*24.7785),col='red',add=T)"
   ]
  },
  {
   "cell_type": "code",
   "execution_count": 48,
   "metadata": {
    "hideCode": false,
    "hidePrompt": false
   },
   "outputs": [
    {
     "data": {
      "text/html": [
       "0.277799988339843"
      ],
      "text/latex": [
       "0.277799988339843"
      ],
      "text/markdown": [
       "0.277799988339843"
      ],
      "text/plain": [
       "[1] 0.2778"
      ]
     },
     "metadata": {},
     "output_type": "display_data"
    },
    {
     "data": {
      "text/html": [
       "1.54149359550822"
      ],
      "text/latex": [
       "1.54149359550822"
      ],
      "text/markdown": [
       "1.54149359550822"
      ],
      "text/plain": [
       "[1] 1.541494"
      ]
     },
     "metadata": {},
     "output_type": "display_data"
    }
   ],
   "source": [
    "error <- est1$residuals  \n",
    "lm_error <- sqrt(mean(error^2))   #0.27\n",
    "lm_error\n",
    "\n",
    "error2=data$Relative.Risk.of.Crashing-predict(est2)\n",
    "nlm_error <- sqrt(mean(error2^2)) #1.54\n",
    "nlm_error"
   ]
  },
  {
   "cell_type": "markdown",
   "metadata": {
    "hideCode": false,
    "hidePrompt": false
   },
   "source": [
    "La régression avec le modèle non linéaire (nls) a une erreur beaucoup plus élevée que celle faite en linéarisant, 0.2777 et 1.541, on en conclue que dans ce cas précis que le modèle en linéarisant est plus adapté."
   ]
  },
  {
   "cell_type": "markdown",
   "metadata": {
    "hideCode": false,
    "hidePrompt": false
   },
   "source": [
    "# Etude de la régression en norme L1"
   ]
  },
  {
   "cell_type": "markdown",
   "metadata": {
    "hideCode": false,
    "hidePrompt": false
   },
   "source": [
    "On considère le modèle de régression linéaire à 2 paramètres: $Y=\\beta0+\\beta1x+E$ avec $E\\sim \\mathcal{N}(0,\\sigma²)$ en conditions dites normales.\n",
    "Cependant une faible proportion $\\pi$ des erreurs sont anormalement plus élevées et suivent une loi dont la variance est plus élevée."
   ]
  },
  {
   "cell_type": "markdown",
   "metadata": {
    "hideCode": false,
    "hidePrompt": false
   },
   "source": [
    "On va tirer un échantillon en conditions normales et estimer nos 2 paramètres $\\beta0$ et $\\beta1$ :"
   ]
  },
  {
   "cell_type": "code",
   "execution_count": 17,
   "metadata": {
    "hideCode": false,
    "hidePrompt": false
   },
   "outputs": [
    {
     "data": {
      "text/plain": [
       "\n",
       "Call:\n",
       "lm(formula = reg[, 2] ~ reg[, 1])\n",
       "\n",
       "Coefficients:\n",
       "(Intercept)     reg[, 1]  \n",
       "     0.9827       1.9806  \n"
      ]
     },
     "metadata": {},
     "output_type": "display_data"
    },
    {
     "data": {
      "image/png": "[encoded data removed]",
      "text/plain": [
       "Plot with title \"Echantillon normal\""
      ]
     },
     "metadata": {},
     "output_type": "display_data"
    }
   ],
   "source": [
    "ech <- function(n , beta0 = 1, beta1 = 2, sigma = 1)\n",
    "{\n",
    "\n",
    "  x<- rnorm(n)\n",
    "  y <- beta0 + beta1 * x + rnorm(n, 0, sigma)\n",
    "  return(cbind(x,y))\n",
    "}\n",
    "reg<-ech(n=100,sigma=0.3)\n",
    "options(repr.plot.width=4, repr.plot.height=4)\n",
    "plot(reg[,1],reg[,2],xlab=\"x\",ylab=\"y\",pch=20,main=\"Echantillon normal\")\n",
    "abline(lm(reg[,2] ~ reg[,1]), col = \"red\")\n",
    "lm(reg[,2] ~ reg[,1])"
   ]
  },
  {
   "cell_type": "markdown",
   "metadata": {
    "hideCode": false,
    "hidePrompt": false
   },
   "source": [
    "Avec notre échantillon dit normal on obient le modèle suivant : $Y=1.98x+0.98+E$ avec $E\\sim \\mathcal{N}(0,0.2²)$"
   ]
  },
  {
   "cell_type": "markdown",
   "metadata": {
    "hideCode": false,
    "hidePrompt": false
   },
   "source": [
    "Maintenant nous allons tiré un autre échantillon mais cette fois avec E ayant une variance beaucoup plus élevée mais seulement une petite quantité."
   ]
  },
  {
   "cell_type": "code",
   "execution_count": 19,
   "metadata": {
    "hideCode": false,
    "hidePrompt": false
   },
   "outputs": [
    {
     "data": {
      "text/plain": [
       "\n",
       "Call:\n",
       "lm(formula = reg[, 2] ~ reg[, 1])\n",
       "\n",
       "Coefficients:\n",
       "(Intercept)     reg[, 1]  \n",
       "      1.283        2.151  \n"
      ]
     },
     "metadata": {},
     "output_type": "display_data"
    },
    {
     "data": {
      "image/png": "[encoded data removed]",
      "text/plain": [
       "Plot with title \"Echantillon anormal\""
      ]
     },
     "metadata": {},
     "output_type": "display_data"
    }
   ],
   "source": [
    "ech2 <- function(n , beta0 = 1, beta1 = 2, sigma = 1,nn)\n",
    "{\n",
    "  \n",
    "  x<- rnorm(n)\n",
    "  y <- beta0 + beta1 * x + rnorm(nn, 0, sigma)\n",
    "  return(cbind(x,y))\n",
    "}\n",
    "reg<-ech2(n=100,nn=20,sigma=2)\n",
    "options(repr.plot.width=4, repr.plot.height=4)\n",
    "plot(reg[,1],reg[,2],xlab=\"x\",ylab=\"y\",pch=20,main=\"Echantillon anormal\")\n",
    "abline(lm(reg[,2] ~ reg[,1]), col = \"red\")\n",
    "lm(reg[,2] ~ reg[,1])"
   ]
  },
  {
   "cell_type": "markdown",
   "metadata": {
    "hideCode": false,
    "hidePrompt": false
   },
   "source": [
    "Avec notre échantillon dit anormal on obient le modèle suivant : $Y=2.15x+1.283+E$ avec $E\\sim \\mathcal{N}(0,2²)$"
   ]
  },
  {
   "cell_type": "markdown",
   "metadata": {
    "hideCode": false,
    "hidePrompt": false
   },
   "source": [
    "Avec $n=1000$"
   ]
  },
  {
   "cell_type": "code",
   "execution_count": 21,
   "metadata": {
    "hideCode": false,
    "hidePrompt": false
   },
   "outputs": [
    {
     "data": {
      "text/plain": [
       "\n",
       "Call:\n",
       "lm(formula = reg[, 2] ~ reg[, 1])\n",
       "\n",
       "Coefficients:\n",
       "(Intercept)     reg[, 1]  \n",
       "     0.9889       2.0082  \n"
      ]
     },
     "metadata": {},
     "output_type": "display_data"
    },
    {
     "data": {
      "image/png": "[encoded data removed]",
      "text/plain": [
       "Plot with title \"Echantillon normal\""
      ]
     },
     "metadata": {},
     "output_type": "display_data"
    }
   ],
   "source": [
    "ech <- function(n , beta0 = 1, beta1 = 2, sigma = 1)\n",
    "{\n",
    "\n",
    "  x<- rnorm(n)\n",
    "  y <- beta0 + beta1 * x + rnorm(n, 0, sigma)\n",
    "  return(cbind(x,y))\n",
    "}\n",
    "reg<-ech(n=1000,sigma=0.3)\n",
    "options(repr.plot.width=4, repr.plot.height=4)\n",
    "plot(reg[,1],reg[,2],xlab=\"x\",ylab=\"y\",pch=20,main=\"Echantillon normal\")\n",
    "abline(lm(reg[,2] ~ reg[,1]), col = \"red\")\n",
    "lm(reg[,2] ~ reg[,1])"
   ]
  },
  {
   "cell_type": "code",
   "execution_count": 24,
   "metadata": {
    "hideCode": false,
    "hidePrompt": false
   },
   "outputs": [
    {
     "data": {
      "text/plain": [
       "\n",
       "Call:\n",
       "lm(formula = reg[, 2] ~ reg[, 1])\n",
       "\n",
       "Coefficients:\n",
       "(Intercept)     reg[, 1]  \n",
       "      1.449        2.188  \n"
      ]
     },
     "metadata": {},
     "output_type": "display_data"
    },
    {
     "data": {
      "image/png": "[encoded data removed]",
      "text/plain": [
       "Plot with title \"Echantillon anormal\""
      ]
     },
     "metadata": {},
     "output_type": "display_data"
    }
   ],
   "source": [
    "ech2 <- function(n , beta0 = 1, beta1 = 2, sigma = 1,nn)\n",
    "{\n",
    "  \n",
    "  x<- rnorm(n)\n",
    "  y <- beta0 + beta1 * x + rnorm(nn, 0, sigma)\n",
    "  return(cbind(x,y))\n",
    "}\n",
    "reg<-ech2(n=1000,nn=20,sigma=2)\n",
    "options(repr.plot.width=4, repr.plot.height=4)\n",
    "plot(reg[,1],reg[,2],xlab=\"x\",ylab=\"y\",pch=20,main=\"Echantillon anormal\")\n",
    "abline(lm(reg[,2] ~ reg[,1]), col = \"red\")\n",
    "lm(reg[,2] ~ reg[,1])"
   ]
  },
  {
   "cell_type": "markdown",
   "metadata": {
    "hideCode": false,
    "hidePrompt": false
   },
   "source": [
    "## Critère d'ajustement des moindres carrés"
   ]
  },
  {
   "cell_type": "code",
   "execution_count": 28,
   "metadata": {
    "hideCode": false,
    "hidePrompt": false
   },
   "outputs": [
    {
     "data": {
      "image/png": "[encoded data removed]",
      "text/plain": [
       "Plot with title \"Ajustement\""
      ]
     },
     "metadata": {},
     "output_type": "display_data"
    }
   ],
   "source": [
    "echantillon <- function(n = 200, beta0 = 1, beta1 = 2, sigma = 1, pi = 0, mu = 0, sigmacarre = 1)\n",
    "{\n",
    "  \n",
    "  x <- rnorm(n)\n",
    "  e <- rnorm(n, 0, sigma)\n",
    " \n",
    "  cont <- which(as.logical(rbinom(n, 1, pi)))\n",
    "  ncont <- length(cont)\n",
    "  if (ncont != 0) e[cont] <- rnorm(ncont, mu, sigmacarre)\n",
    "  return(list(data = cbind(x, beta0 + beta1 * x + e), cont = cont))\n",
    "}\n",
    "resultat <- echantillon(pi = 0.05, mu = 3)\n",
    "plot(resultat$data[,1], resultat$data[,2], pch = 20, col = \"blue\",xlab=\"x\",ylab=\"y\",main=\"Ajustement\")\n",
    "points(resultat$data[resultat$cont,1], resultat$data[resultat$cont,2], col = \"red\", pch = 20)\n",
    "abline(lm(resultat$data[,2] ~ resultat$data[,1]), col = \"red\")\n",
    "abline(lm(resultat$data[-resultat$cont,2] ~ resultat$data[-resultat$cont,1]), col = \"blue\")"
   ]
  },
  {
   "cell_type": "markdown",
   "metadata": {
    "hideCode": false,
    "hidePrompt": false
   },
   "source": [
    "En rouge on retrouve les points appartenants à l'échantillon anormal ne pouvant être inclu dans notre régression \"normale\", on constante que sur un échantillon $n=200$ que cela ne concerne que 10 points."
   ]
  },
  {
   "cell_type": "markdown",
   "metadata": {
    "hideCode": false,
    "hidePrompt": false
   },
   "source": [
    "## Régression en norme L1"
   ]
  },
  {
   "cell_type": "markdown",
   "metadata": {
    "hideCode": false,
    "hidePrompt": false
   },
   "source": [
    "### Définition"
   ]
  },
  {
   "cell_type": "markdown",
   "metadata": {
    "hideCode": false,
    "hidePrompt": false
   },
   "source": [
    "La norme L1 en régression permet d'augmenter la robustesse des moindres carrés, il s'agit d'un algorithme qui a pour but de minimiser dans notre cas les RSS. \n",
    "Formule :$RSS=\\sum _{i=1}^{n}(y_{i}-f(x_{i}))^{2}$"
   ]
  },
  {
   "cell_type": "markdown",
   "metadata": {
    "hideCode": false,
    "hidePrompt": false
   },
   "source": [
    "### Algorithme d'optimisation L1"
   ]
  },
  {
   "cell_type": "markdown",
   "metadata": {
    "hideCode": false,
    "hidePrompt": false
   },
   "source": [
    "Dans $R$ la fonction mettant en oeuvre l'algorithme de Nelder et Mead est $optim$"
   ]
  },
  {
   "cell_type": "code",
   "execution_count": 42,
   "metadata": {
    "hideCode": false,
    "hidePrompt": false,
    "scrolled": false
   },
   "outputs": [
    {
     "data": {
      "image/png": "[encoded data removed]",
      "text/plain": [
       "plot without title"
      ]
     },
     "metadata": {},
     "output_type": "display_data"
    }
   ],
   "source": [
    "n <- 100\n",
    "x<- rnorm(n)\n",
    "e<- rnorm(n, 0, 1)\n",
    "beta0<-1\n",
    "beta1<-2\n",
    "data<-as.data.frame(cbind(x, beta0+beta1*x+e))\n",
    "y<-data$V2\n",
    "min.RSS <- function(beta) {\n",
    " sum((beta0 + beta1 * x - y)^2)\n",
    "}\n",
    "\n",
    "result <- optim(c(-50,50), min.RSS,method = \"Nelder-Mead\")\n",
    "\n",
    "plot(y ~ x,data,pch=20)\n",
    "abline(a = beta0, b = beta1, col = \"red\")"
   ]
  },
  {
   "cell_type": "markdown",
   "metadata": {
    "hideCode": false,
    "hidePrompt": false
   },
   "source": [
    "La fonction $optim$ dans $R$ peut également servir dans le cas d'estimation de maximum de vraisemblance également."
   ]
  },
  {
   "cell_type": "markdown",
   "metadata": {
    "hideCode": false,
    "hidePrompt": false
   },
   "source": [
    "# Optimisation en Analyse de données"
   ]
  },
  {
   "cell_type": "markdown",
   "metadata": {
    "hideCode": false,
    "hidePrompt": false
   },
   "source": [
    "Le critère habituellement minimisé en ACP pour les individus est :\n",
    "$\\sum_{r=1}^{n}d(GM_rGH_r)^2$\n",
    "\n",
    "Pour les variables :\n",
    "$\\lambda_{max}\\lambda^T\\mathbb{V}{X}\\lambda$\n",
    "\n",
    "Combinaison linéaire maximisant les covariances:\n",
    "$\\sum_{i=1}^{p}\\lambda_icor(X_i,X_j)$"
   ]
  },
  {
   "cell_type": "markdown",
   "metadata": {
    "hideCode": false,
    "hidePrompt": false
   },
   "source": [
    "## Exemple d'ACP"
   ]
  },
  {
   "cell_type": "markdown",
   "metadata": {
    "hideCode": false,
    "hidePrompt": false
   },
   "source": [
    "Pour cela on utilisera les données d'Orheim _Principal Variables_ par __G.P. McCabe__."
   ]
  },
  {
   "cell_type": "code",
   "execution_count": 12,
   "metadata": {
    "hideCode": false,
    "hidePrompt": false
   },
   "outputs": [
    {
     "data": {
      "text/html": [
       "<table>\n",
       "<thead><tr><th></th><th scope=col>Al</th><th scope=col>SI</th><th scope=col>S</th><th scope=col>CA</th><th scope=col>TI</th><th scope=col>FE</th><th scope=col>SE</th><th scope=col>SR</th><th scope=col>BA</th></tr></thead>\n",
       "<tbody>\n",
       "\t<tr><th scope=row>Al</th><td> 1.000</td><td> 0.961</td><td> 0.419</td><td> 0.926</td><td> 0.030</td><td> 0.879</td><td>-0.058</td><td>-0.050</td><td>0.024 </td></tr>\n",
       "\t<tr><th scope=row>SI</th><td> 0.961</td><td> 1.000</td><td>-0.010</td><td> 0.373</td><td> 0.304</td><td> 0.370</td><td> 0.425</td><td> 0.195</td><td>0.272 </td></tr>\n",
       "\t<tr><th scope=row>S</th><td> 0.419</td><td> 0.454</td><td> 1.000</td><td> 0.328</td><td> 0.454</td><td> 0.280</td><td> 0.657</td><td> 0.005</td><td>0.424 </td></tr>\n",
       "\t<tr><th scope=row>CA</th><td>-0.010</td><td>-0.071</td><td>-0.058</td><td> 1.000</td><td>-0.071</td><td>-0.032</td><td> 0.465</td><td> 0.629</td><td>0.093 </td></tr>\n",
       "\t<tr><th scope=row>TI</th><td> 0.926</td><td> 0.879</td><td> 0.425</td><td>-0.050</td><td> 1.000</td><td> 0.269</td><td> 0.061</td><td> 0.103</td><td>0.185 </td></tr>\n",
       "\t<tr><th scope=row>FE</th><td> 0.373</td><td> 0.370</td><td> 0.657</td><td> 0.195</td><td> 0.336</td><td> 1.000</td><td> 0.225</td><td> 0.336</td><td>0.113 </td></tr>\n",
       "\t<tr><th scope=row>SE</th><td> 0.328</td><td> 0.280</td><td> 0.465</td><td> 0.005</td><td> 0.416</td><td> 0.424</td><td> 1.000</td><td> 0.416</td><td>0.261 </td></tr>\n",
       "\t<tr><th scope=row>SR</th><td> 0.030</td><td>-0.032</td><td> 0.061</td><td> 0.629</td><td> 0.024</td><td> 0.093</td><td> 0.113</td><td> 1.000</td><td>0.489 </td></tr>\n",
       "\t<tr><th scope=row>BA</th><td> 0.304</td><td> 0.269</td><td> 0.225</td><td> 0.103</td><td> 0.272</td><td> 0.185</td><td> 0.261</td><td> 0.489</td><td>1.000 </td></tr>\n",
       "</tbody>\n",
       "</table>\n"
      ],
      "text/latex": [
       "\\begin{tabular}{r|lllllllll}\n",
       "  & Al & SI & S & CA & TI & FE & SE & SR & BA\\\\\n",
       "\\hline\n",
       "\tAl &  1.000 &  0.961 &  0.419 &  0.926 &  0.030 &  0.879 & -0.058 & -0.050 & 0.024 \\\\\n",
       "\tSI &  0.961 &  1.000 & -0.010 &  0.373 &  0.304 &  0.370 &  0.425 &  0.195 & 0.272 \\\\\n",
       "\tS &  0.419 &  0.454 &  1.000 &  0.328 &  0.454 &  0.280 &  0.657 &  0.005 & 0.424 \\\\\n",
       "\tCA & -0.010 & -0.071 & -0.058 &  1.000 & -0.071 & -0.032 &  0.465 &  0.629 & 0.093 \\\\\n",
       "\tTI &  0.926 &  0.879 &  0.425 & -0.050 &  1.000 &  0.269 &  0.061 &  0.103 & 0.185 \\\\\n",
       "\tFE &  0.373 &  0.370 &  0.657 &  0.195 &  0.336 &  1.000 &  0.225 &  0.336 & 0.113 \\\\\n",
       "\tSE &  0.328 &  0.280 &  0.465 &  0.005 &  0.416 &  0.424 &  1.000 &  0.416 & 0.261 \\\\\n",
       "\tSR &  0.030 & -0.032 &  0.061 &  0.629 &  0.024 &  0.093 &  0.113 &  1.000 & 0.489 \\\\\n",
       "\tBA &  0.304 &  0.269 &  0.225 &  0.103 &  0.272 &  0.185 &  0.261 &  0.489 & 1.000 \\\\\n",
       "\\end{tabular}\n"
      ],
      "text/markdown": [
       "\n",
       "| <!--/--> | Al | SI | S | CA | TI | FE | SE | SR | BA | \n",
       "|---|---|---|---|---|---|---|---|---|\n",
       "| Al |  1.000 |  0.961 |  0.419 |  0.926 |  0.030 |  0.879 | -0.058 | -0.050 | 0.024  | \n",
       "| SI |  0.961 |  1.000 | -0.010 |  0.373 |  0.304 |  0.370 |  0.425 |  0.195 | 0.272  | \n",
       "| S |  0.419 |  0.454 |  1.000 |  0.328 |  0.454 |  0.280 |  0.657 |  0.005 | 0.424  | \n",
       "| CA | -0.010 | -0.071 | -0.058 |  1.000 | -0.071 | -0.032 |  0.465 |  0.629 | 0.093  | \n",
       "| TI |  0.926 |  0.879 |  0.425 | -0.050 |  1.000 |  0.269 |  0.061 |  0.103 | 0.185  | \n",
       "| FE |  0.373 |  0.370 |  0.657 |  0.195 |  0.336 |  1.000 |  0.225 |  0.336 | 0.113  | \n",
       "| SE |  0.328 |  0.280 |  0.465 |  0.005 |  0.416 |  0.424 |  1.000 |  0.416 | 0.261  | \n",
       "| SR |  0.030 | -0.032 |  0.061 |  0.629 |  0.024 |  0.093 |  0.113 |  1.000 | 0.489  | \n",
       "| BA |  0.304 |  0.269 |  0.225 |  0.103 |  0.272 |  0.185 |  0.261 |  0.489 | 1.000  | \n",
       "\n",
       "\n"
      ],
      "text/plain": [
       "   Al     SI     S      CA     TI     FE     SE     SR     BA   \n",
       "Al  1.000  0.961  0.419  0.926  0.030  0.879 -0.058 -0.050 0.024\n",
       "SI  0.961  1.000 -0.010  0.373  0.304  0.370  0.425  0.195 0.272\n",
       "S   0.419  0.454  1.000  0.328  0.454  0.280  0.657  0.005 0.424\n",
       "CA -0.010 -0.071 -0.058  1.000 -0.071 -0.032  0.465  0.629 0.093\n",
       "TI  0.926  0.879  0.425 -0.050  1.000  0.269  0.061  0.103 0.185\n",
       "FE  0.373  0.370  0.657  0.195  0.336  1.000  0.225  0.336 0.113\n",
       "SE  0.328  0.280  0.465  0.005  0.416  0.424  1.000  0.416 0.261\n",
       "SR  0.030 -0.032  0.061  0.629  0.024  0.093  0.113  1.000 0.489\n",
       "BA  0.304  0.269  0.225  0.103  0.272  0.185  0.261  0.489 1.000"
      ]
     },
     "metadata": {},
     "output_type": "display_data"
    }
   ],
   "source": [
    "setwd('C:/Users/Faustine/Desktop/optimisation/td')\n",
    "data<-c(.961, .419, -.010, .926, .373, .328, .030, .304,\n",
    "       .454, -.071, .879, .370, .280, -.032, .269,\n",
    "       -.058, .425, .657, .465, .061, .225,\n",
    "       -.050, .195, .005, .629, .103,\n",
    "       .336 ,.416 ,.024, .272,\n",
    "       .424, .093, .185,\n",
    "       .113, .261,\n",
    "       .489)\n",
    "mat<-diag(1,ncol=9,nrow=9)\n",
    "mat[upper.tri(mat)]<-data\n",
    "\n",
    "mat[lower.tri(mat)]<-data\n",
    "\n",
    "colnames(mat)<-c(\"Al\",\"SI\", \"S\", \"CA\", \"TI\", \"FE\",\"SE\", \"SR\", \"BA\")  \n",
    "rownames(mat)<-colnames(mat)\n",
    "mat"
   ]
  },
  {
   "cell_type": "markdown",
   "metadata": {
    "hideCode": false,
    "hidePrompt": false
   },
   "source": [
    "Afin de procéder à l'ACP on utilise le pacake $FactoMineR$."
   ]
  },
  {
   "cell_type": "code",
   "execution_count": 6,
   "metadata": {
    "hideCode": false,
    "hidePrompt": false
   },
   "outputs": [],
   "source": [
    "library(FactoMineR)"
   ]
  },
  {
   "cell_type": "code",
   "execution_count": 25,
   "metadata": {
    "hideCode": false,
    "hidePrompt": false
   },
   "outputs": [
    {
     "name": "stdout",
     "output_type": "stream",
     "text": [
      "\n",
      "Call:\n",
      "PCA(X = mat) \n",
      "\n",
      "\n",
      "Eigenvalues\n",
      "                       Dim.1   Dim.2   Dim.3   Dim.4   Dim.5   Dim.6   Dim.7\n",
      "Variance               3.847   2.100   1.233   0.791   0.552   0.429   0.045\n",
      "% of var.             42.740  23.339  13.701   8.792   6.135   4.764   0.500\n",
      "Cumulative % of var.  42.740  66.078  79.779  88.571  94.706  99.471  99.971\n",
      "                       Dim.8\n",
      "Variance               0.003\n",
      "% of var.              0.029\n",
      "Cumulative % of var. 100.000\n",
      "\n",
      "Individuals (the 3 first)\n",
      "       Dist    Dim.1    ctr   cos2    Dim.2    ctr   cos2    Dim.3    ctr\n",
      "Al |  3.681 |  2.127 13.064  0.334 | -2.887 44.075  0.615 |  0.309  0.858\n",
      "SI |  2.307 |  1.158  3.873  0.252 | -0.701  2.598  0.092 | -1.100 10.893\n",
      "S  |  2.594 |  0.901  2.343  0.121 |  1.494 11.804  0.332 |  1.244 13.939\n",
      "     cos2  \n",
      "Al  0.007 |\n",
      "SI  0.227 |\n",
      "S   0.230 |\n",
      "\n",
      "Variables (the 3 first)\n",
      "      Dim.1    ctr   cos2    Dim.2    ctr   cos2    Dim.3    ctr   cos2  \n",
      "Al |  0.892 20.676  0.795 | -0.240  2.740  0.058 | -0.317  8.141  0.100 |\n",
      "SI |  0.900 21.080  0.811 | -0.215  2.199  0.046 | -0.290  6.831  0.084 |\n",
      "S  |  0.541  7.619  0.293 |  0.421  8.446  0.177 |  0.560 25.459  0.314 |\n"
     ]
    }
   ],
   "source": [
    "orheim_pca<-PCA(mat)\n",
    "summary(orheim_pca,nbelements=3,ncp=3)"
   ]
  },
  {
   "cell_type": "code",
   "execution_count": 26,
   "metadata": {},
   "outputs": [
    {
     "data": {
      "image/png": "[encoded data removed]",
      "text/plain": [
       "Plot with title \"Valeurs propres\""
      ]
     },
     "metadata": {},
     "output_type": "display_data"
    }
   ],
   "source": [
    "options(repr.plot.width=4, repr.plot.height=4)\n",
    "barplot(orheim_pca$eig[,1], main=\"Valeurs propres\")"
   ]
  },
  {
   "cell_type": "code",
   "execution_count": 23,
   "metadata": {},
   "outputs": [
    {
     "data": {
      "image/png": "[encoded data removed]",
      "text/plain": [
       "Plot with title \"Variables factor map (PCA)\""
      ]
     },
     "metadata": {},
     "output_type": "display_data"
    }
   ],
   "source": [
    "par(mfrow=c(1,2))\n",
    "options(repr.plot.width=6, repr.plot.height=4)\n",
    "plot(orheim_pca)\n",
    "plot(orheim_pca,choix=\"var\")"
   ]
  },
  {
   "cell_type": "markdown",
   "metadata": {},
   "source": [
    "Graphique des individus et à droite celles des variables, certains sont bien reprénsentés tels que SI,SR."
   ]
  },
  {
   "cell_type": "code",
   "execution_count": 24,
   "metadata": {},
   "outputs": [
    {
     "data": {
      "text/html": [
       "<dl>\n",
       "\t<dt>$Dim.1</dt>\n",
       "\t\t<dd><strong>$quanti</strong> = <table>\n",
       "<thead><tr><th></th><th scope=col>correlation</th><th scope=col>p.value</th></tr></thead>\n",
       "<tbody>\n",
       "\t<tr><th scope=row>SI</th><td> 0.9004709  </td><td>0.0009280515</td></tr>\n",
       "\t<tr><th scope=row>Al</th><td> 0.8918174  </td><td>0.0012316938</td></tr>\n",
       "\t<tr><th scope=row>SR</th><td>-0.9103662  </td><td>0.0006497138</td></tr>\n",
       "</tbody>\n",
       "</table>\n",
       "</dd>\n",
       "\t<dt>$Dim.2</dt>\n",
       "\t\t<dd><strong>$quanti</strong> = <table>\n",
       "<thead><tr><th></th><th scope=col>correlation</th><th scope=col>p.value</th></tr></thead>\n",
       "<tbody>\n",
       "\t<tr><th scope=row>CA</th><td>-0.8476428 </td><td>0.003903111</td></tr>\n",
       "</tbody>\n",
       "</table>\n",
       "</dd>\n",
       "</dl>\n"
      ],
      "text/latex": [
       "\\begin{description}\n",
       "\\item[\\$Dim.1] \\textbf{\\$quanti} = \\begin{tabular}{r|ll}\n",
       "  & correlation & p.value\\\\\n",
       "\\hline\n",
       "\tSI &  0.9004709   & 0.0009280515\\\\\n",
       "\tAl &  0.8918174   & 0.0012316938\\\\\n",
       "\tSR & -0.9103662   & 0.0006497138\\\\\n",
       "\\end{tabular}\n",
       "\n",
       "\\item[\\$Dim.2] \\textbf{\\$quanti} = \\begin{tabular}{r|ll}\n",
       "  & correlation & p.value\\\\\n",
       "\\hline\n",
       "\tCA & -0.8476428  & 0.003903111\\\\\n",
       "\\end{tabular}\n",
       "\n",
       "\\end{description}\n"
      ],
      "text/markdown": [
       "$Dim.1\n",
       ":   **$quanti** = \n",
       "| <!--/--> | correlation | p.value | \n",
       "|---|---|---|\n",
       "| SI |  0.9004709   | 0.0009280515 | \n",
       "| Al |  0.8918174   | 0.0012316938 | \n",
       "| SR | -0.9103662   | 0.0006497138 | \n",
       "\n",
       "\n",
       "\n",
       "$Dim.2\n",
       ":   **$quanti** = \n",
       "| <!--/--> | correlation | p.value | \n",
       "|---|\n",
       "| CA | -0.8476428  | 0.003903111 | \n",
       "\n",
       "\n",
       "\n",
       "\n",
       "\n"
      ],
      "text/plain": [
       "$Dim.1\n",
       "$Dim.1$quanti\n",
       "   correlation      p.value\n",
       "SI   0.9004709 0.0009280515\n",
       "Al   0.8918174 0.0012316938\n",
       "SR  -0.9103662 0.0006497138\n",
       "\n",
       "\n",
       "$Dim.2\n",
       "$Dim.2$quanti\n",
       "   correlation     p.value\n",
       "CA  -0.8476428 0.003903111\n",
       "\n"
      ]
     },
     "metadata": {},
     "output_type": "display_data"
    }
   ],
   "source": [
    "dimdesc(orheim_pca,axes=1:2)"
   ]
  },
  {
   "cell_type": "markdown",
   "metadata": {},
   "source": [
    "# Conclusion\n",
    "L'ensemble du rapport a été fait à l'aide de l'outil Jupyter Notebook (avec le package R Essentials) permettant d'utiliser du LATEX ou RMarkdown.Cet outil est bien plus agréable à utiliser que Rstudio."
   ]
  },
  {
   "cell_type": "code",
   "execution_count": null,
   "metadata": {},
   "outputs": [],
   "source": []
  }
 ],
 "metadata": {
  "hide_code_all_hidden": false,
  "kernelspec": {
   "display_name": "R",
   "language": "R",
   "name": "ir"
  },
  "language_info": {
   "codemirror_mode": "r",
   "file_extension": ".r",
   "mimetype": "text/x-r-source",
   "name": "R",
   "pygments_lexer": "r",
   "version": "3.4.3"
  }
 },
 "nbformat": 4,
 "nbformat_minor": 2
}
